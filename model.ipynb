{
 "cells": [
  {
   "cell_type": "code",
   "execution_count": null,
   "metadata": {},
   "outputs": [],
   "source": [
    "import os\n",
    "import numpy as np\n",
    "import pandas as pd\n",
    "import tensorflow as tf\n",
    "from tensorflow.keras.models import Sequential\n",
    "from tensorflow.keras.models import load_model\n",
    "from tensorflow.keras.layers import LSTM, GlobalAveragePooling1D, Dense, Dropout, BatchNormalization, TimeDistributed\n",
    "from keras import backend as K\n",
    "from tensorflow.keras.callbacks import EarlyStopping\n",
    "from tensorflow.keras.utils import to_categorical\n",
    "\n",
    "from sklearn.model_selection import train_test_split\n",
    "from sklearn.preprocessing import MinMaxScaler\n"
   ]
  },
  {
   "cell_type": "code",
   "execution_count": null,
   "metadata": {},
   "outputs": [],
   "source": [
    "\n",
    "# def precision(y_true, y_pred):\n",
    "#     \"\"\"Precision metric.\"\"\"\n",
    "#     true_positives = K.sum(K.round(K.clip(y_true * y_pred, 0, 1)))\n",
    "#     predicted_positives = K.sum(K.round(K.clip(y_pred, 0, 1)))\n",
    "#     precision = true_positives / (predicted_positives + K.epsilon())\n",
    "#     return precision\n",
    "\n",
    "# # Register the custom metric function with Keras\n",
    "# tf.keras.metrics.Precision = precision"
   ]
  },
  {
   "cell_type": "code",
   "execution_count": null,
   "metadata": {},
   "outputs": [],
   "source": [
    "def load_and_preprocess_data(file_list, sequence_length=500, num_classes=4):\n",
    "    data = []\n",
    "    targets = []\n",
    "\n",
    "    for file in file_list:\n",
    "        df = pd.read_csv(file, usecols=[1, 2, 3, 4])\n",
    "        scaler = MinMaxScaler()\n",
    "        df[[\"note\", \"velocity\", \"time\"]] = scaler.fit_transform(\n",
    "            df[[\"note\", \"velocity\", \"time\"]]\n",
    "        )\n",
    "\n",
    "        if len(df) < sequence_length:\n",
    "            padding = pd.DataFrame(\n",
    "                np.zeros((sequence_length - len(df), 3)),\n",
    "                columns=[\"note\", \"velocity\", \"time\"],\n",
    "            )\n",
    "            df = pd.concat(\n",
    "                [df[[\"note\", \"velocity\", \"time\"]], padding], ignore_index=True\n",
    "            )\n",
    "\n",
    "        data.append(df.iloc[:sequence_length, :-1].values)\n",
    "        targets.append(to_categorical(df.iloc[:sequence_length][\"anomaly\"].values, num_classes=num_classes))\n",
    "\n",
    "    return np.array(data), np.array(targets)\n"
   ]
  },
  {
   "cell_type": "code",
   "execution_count": null,
   "metadata": {},
   "outputs": [],
   "source": [
    "\n",
    "\n",
    "directory = \"./anomalous\"  # Replace with the path to your directory\n",
    "anomalous_file_list = []  # Initialize an empty list\n",
    "\n",
    "for filename in os.listdir(directory):\n",
    "    if filename.endswith(\".csv\"):\n",
    "        file_path = os.path.join(directory, filename)\n",
    "        anomalous_file_list.append(file_path)\n",
    "\n",
    "sequence_length = 500  # Updated sequence length\n",
    "data, targets = load_and_preprocess_data(anomalous_file_list, sequence_length)\n",
    "\n",
    "X_train, X_test, y_train, y_test = train_test_split(\n",
    "    data, targets, test_size=0.2, random_state=42\n",
    ")\n",
    "\n",
    "print(X_train.shape, y_train.shape, X_test.shape, y_test.shape)"
   ]
  },
  {
   "cell_type": "code",
   "execution_count": null,
   "metadata": {},
   "outputs": [],
   "source": [
    "model = Sequential([\n",
    "    LSTM(256, activation='tanh', input_shape=(sequence_length, 3), return_sequences=True),\n",
    "    Dropout(0.2),\n",
    "    LSTM(128, activation='tanh', return_sequences=True),\n",
    "    Dropout(0.2),\n",
    "    LSTM(64, activation='tanh', return_sequences=True),\n",
    "    BatchNormalization(),\n",
    "    Dense(64, activation='relu'),\n",
    "    Dropout(0.2),\n",
    "    Dense(32, activation='relu'),\n",
    "    Dropout(0.2),\n",
    "    TimeDistributed(Dense(4, activation='softmax'))\n",
    "])\n",
    "\n",
    "model.compile(optimizer='adam', loss='categorical_crossentropy', run_eagerly=True)"
   ]
  },
  {
   "cell_type": "code",
   "execution_count": null,
   "metadata": {},
   "outputs": [],
   "source": [
    "\n",
    "# Save the model and print accuracy with the epochs\n",
    "early_stopping_callback = EarlyStopping(monitor=\"val_loss\", patience=10, min_delta=0, mode=\"min\")\n",
    "\n",
    "\n",
    "checkpoint_path = \"col-model.h5\"\n",
    "checkpoint_callback = tf.keras.callbacks.ModelCheckpoint(\n",
    "    checkpoint_path, monitor=\"val_loss\", verbose=1, save_best_only=True, mode=\"min\"\n",
    ")\n",
    "\n",
    "history = model.fit(\n",
    "    X_train,\n",
    "    y_train,\n",
    "    epochs=100,\n",
    "    batch_size=32,\n",
    "    validation_data=(X_test, y_test),\n",
    "    callbacks=[checkpoint_callback, early_stopping_callback],\n",
    ")\n",
    "\n",
    "# Load the best model checkpoint and evaluate accuracy\n",
    "model.load_weights(checkpoint_path)\n",
    "accuracy = model.evaluate(X_test, y_test)\n",
    "print(f\"Accuracy: {accuracy}\")"
   ]
  },
  {
   "cell_type": "code",
   "execution_count": null,
   "metadata": {},
   "outputs": [],
   "source": [
    "def predict_anomalies(model, file, sequence_length=500):\n",
    "    df = pd.read_csv(file, usecols=[1, 2, 3], index_col=False)\n",
    "    print(df.columns)\n",
    "    scaler = MinMaxScaler()\n",
    "    df[[\"note\", \"velocity\", \"time\"]] = scaler.fit_transform(\n",
    "        df[[\"note\", \"velocity\", \"time\"]]\n",
    "    )\n",
    "\n",
    "    # Pad the input data if the number of notes is less than the sequence length\n",
    "    if len(df) < sequence_length:\n",
    "        padding = pd.DataFrame(\n",
    "            np.zeros((sequence_length - len(df), 3)),\n",
    "            columns=[\"note\", \"velocity\", \"time\"],\n",
    "        )\n",
    "        df = pd.concat([df, padding], ignore_index=True)\n",
    "\n",
    "    input_data = df.iloc[:sequence_length, :].values.reshape(1, sequence_length, -1)\n",
    "    print(input_data.shape)\n",
    "    predictions = model.predict(input_data)\n",
    "    predictions[predictions < 0] = 0\n",
    "    \n",
    "    # Round predictions to the nearest integer\n",
    "    rounded_predictions = np.round(predictions).flatten()\n",
    "\n",
    "    # Calculate the number of anomalies by summing up the rounded predictions\n",
    "    num_anomalies = int(np.sum(rounded_predictions))\n",
    "\n",
    "    return num_anomalies\n"
   ]
  },
  {
   "cell_type": "code",
   "execution_count": null,
   "metadata": {},
   "outputs": [],
   "source": [
    "new_file = \"anomalous/scn16_1_modified078.csv\"\n",
    "model = load_model(\"./model/model.h5\")\n",
    "num_anomalies = predict_anomalies(model, new_file)\n",
    "print(f\"Number of anomalies: {num_anomalies}\")\n"
   ]
  }
 ],
 "metadata": {
  "kernelspec": {
   "display_name": "venv",
   "language": "python",
   "name": "python3"
  },
  "language_info": {
   "codemirror_mode": {
    "name": "ipython",
    "version": 3
   },
   "file_extension": ".py",
   "mimetype": "text/x-python",
   "name": "python",
   "nbconvert_exporter": "python",
   "pygments_lexer": "ipython3",
   "version": "3.9.13"
  },
  "orig_nbformat": 4
 },
 "nbformat": 4,
 "nbformat_minor": 2
}
